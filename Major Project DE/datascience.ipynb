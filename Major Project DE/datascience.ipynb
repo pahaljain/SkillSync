{
 "cells": [
  {
   "cell_type": "code",
   "execution_count": 2,
   "metadata": {},
   "outputs": [
    {
     "ename": "ModuleNotFoundError",
     "evalue": "No module named 'sklearn'",
     "output_type": "error",
     "traceback": [
      "\u001b[1;31m---------------------------------------------------------------------------\u001b[0m",
      "\u001b[1;31mModuleNotFoundError\u001b[0m                       Traceback (most recent call last)",
      "Cell \u001b[1;32mIn[2], line 3\u001b[0m\n\u001b[0;32m      1\u001b[0m \u001b[38;5;28;01mimport\u001b[39;00m \u001b[38;5;21;01mpandas\u001b[39;00m \u001b[38;5;28;01mas\u001b[39;00m \u001b[38;5;21;01mpd\u001b[39;00m\n\u001b[0;32m      2\u001b[0m \u001b[38;5;28;01mimport\u001b[39;00m \u001b[38;5;21;01mnumpy\u001b[39;00m \u001b[38;5;28;01mas\u001b[39;00m \u001b[38;5;21;01mnp\u001b[39;00m\n\u001b[1;32m----> 3\u001b[0m \u001b[38;5;28;01mfrom\u001b[39;00m \u001b[38;5;21;01msklearn\u001b[39;00m\u001b[38;5;21;01m.\u001b[39;00m\u001b[38;5;21;01mmodel_selection\u001b[39;00m \u001b[38;5;28;01mimport\u001b[39;00m train_test_split\n\u001b[0;32m      4\u001b[0m \u001b[38;5;28;01mfrom\u001b[39;00m \u001b[38;5;21;01msklearn\u001b[39;00m\u001b[38;5;21;01m.\u001b[39;00m\u001b[38;5;21;01mlinear_model\u001b[39;00m \u001b[38;5;28;01mimport\u001b[39;00m LogisticRegression\n\u001b[0;32m      5\u001b[0m \u001b[38;5;28;01mfrom\u001b[39;00m \u001b[38;5;21;01msklearn\u001b[39;00m\u001b[38;5;21;01m.\u001b[39;00m\u001b[38;5;21;01mtree\u001b[39;00m \u001b[38;5;28;01mimport\u001b[39;00m DecisionTreeClassifier\n",
      "\u001b[1;31mModuleNotFoundError\u001b[0m: No module named 'sklearn'"
     ]
    }
   ],
   "source": [
    "import pandas as pd\n",
    "import numpy as np\n",
    "from sklearn.model_selection import train_test_split\n",
    "from sklearn.linear_model import LogisticRegression\n",
    "from sklearn.tree import DecisionTreeClassifier\n",
    "from sklearn.ensemble import RandomForestClassifier\n",
    "from sklearn.svm import SVC\n",
    "from sklearn.metrics import  accuracy_score ,classification_report, confusion_matrix\n",
    "from sklearn.preprocessing import LabelEncoder, StandardScaler\n",
    "import seaborn as sns\n",
    "import matplotlib.pyplot as plt\n"
   ]
  },
  {
   "cell_type": "code",
   "execution_count": 67,
   "metadata": {},
   "outputs": [
    {
     "name": "stdout",
     "output_type": "stream",
     "text": [
      "                            employee_id            name  \\\n",
      "0  0cc78cb7-acac-4a29-b18a-dc3c3a3728e5     Michael Lee   \n",
      "1  0cc78cb7-acac-4a29-b18a-dc3c3a3728e5     Michael Lee   \n",
      "2  484156ee-47dd-4bb0-951a-efff367523e7  Katelyn Martin   \n",
      "3  936c63e1-e491-4c7d-bccb-257c60397a66   Jonathan Mays   \n",
      "4  9431fdb1-9954-41c1-801a-ba80818c6d6f   Andrew Nelson   \n",
      "\n",
      "                   email    password   phone_num designation   hire_date  \\\n",
      "0  michael03@example.com  i#4_UaAt&b  4756308895       Sales  2021-01-20   \n",
      "1  michael03@example.com  i#4_UaAt&b  4756308895       Sales  2021-01-20   \n",
      "2     vyoder@example.org  rOx+$8Tel1   510905464   Developer  2022-01-29   \n",
      "3    lhudson@example.net  @A*i4#Dif5  4730992572     Manager  2021-05-28   \n",
      "4   lhiggins@example.net  $y%9T$Vr78   254611318     Manager  2022-09-04   \n",
      "\n",
      "                              metric_id                             course_id  \\\n",
      "0  29a8cd6b-1a61-4c81-abc0-0d3bbfb2d603  c55f69cf-ab71-4aec-bc77-b7657601b1bd   \n",
      "1  2894246b-13f2-4670-8a4d-94657c3be437  11f6543b-48c1-4165-8549-620bf5d78614   \n",
      "2  16350782-c83f-423a-a506-e2690d43dab5  8f1f0895-8133-46b0-a1b9-6ce482af35a3   \n",
      "3  cda3fbe2-f4c5-4c26-9dfa-11949e3229d0  4371e4d1-a374-4d89-8422-9bc9d1f1b365   \n",
      "4  97f64258-26fa-401b-9e3f-c9ce6f3dac2c  3451b06c-3fd5-4dcd-a733-787b61bc706b   \n",
      "\n",
      "   quiz_score  discipline  punctuality  teamwork  communication  \\\n",
      "0           9           4            5         3              2   \n",
      "1           1           1            5         5              2   \n",
      "2           9           0            3         0              1   \n",
      "3           3           1            0         0              0   \n",
      "4           1           1            4         0              4   \n",
      "\n",
      "   problem_solving                        date  \\\n",
      "0                0  2024-10-14 10:22:06.363352   \n",
      "1                3  2024-10-14 10:22:06.365859   \n",
      "2                5  2024-10-14 10:22:06.388910   \n",
      "3                2  2024-10-14 10:22:06.386904   \n",
      "4                3  2024-10-14 10:22:06.357351   \n",
      "\n",
      "                                            comments  \n",
      "0  Think whose drive performance add far remember...  \n",
      "1                Image population decision her ever.  \n",
      "2                                    With group job.  \n",
      "3                     Lead member sing region early.  \n",
      "4               Grow participant senior source year.  \n",
      "<class 'pandas.core.frame.DataFrame'>\n",
      "RangeIndex: 1000 entries, 0 to 999\n",
      "Data columns (total 17 columns):\n",
      " #   Column           Non-Null Count  Dtype \n",
      "---  ------           --------------  ----- \n",
      " 0   employee_id      1000 non-null   object\n",
      " 1   name             1000 non-null   object\n",
      " 2   email            1000 non-null   object\n",
      " 3   password         1000 non-null   object\n",
      " 4   phone_num        1000 non-null   int64 \n",
      " 5   designation      1000 non-null   object\n",
      " 6   hire_date        1000 non-null   object\n",
      " 7   metric_id        1000 non-null   object\n",
      " 8   course_id        1000 non-null   object\n",
      " 9   quiz_score       1000 non-null   int64 \n",
      " 10  discipline       1000 non-null   int64 \n",
      " 11  punctuality      1000 non-null   int64 \n",
      " 12  teamwork         1000 non-null   int64 \n",
      " 13  communication    1000 non-null   int64 \n",
      " 14  problem_solving  1000 non-null   int64 \n",
      " 15  date             1000 non-null   object\n",
      " 16  comments         1000 non-null   object\n",
      "dtypes: int64(7), object(10)\n",
      "memory usage: 132.9+ KB\n",
      "None\n",
      "          phone_num   quiz_score   discipline  punctuality     teamwork  \\\n",
      "count  1.000000e+03  1000.000000  1000.000000   1000.00000  1000.000000   \n",
      "mean   5.156191e+09     5.167000     2.638000      2.43200     2.562000   \n",
      "std    2.693701e+09     3.145633     1.693465      1.78285     1.697951   \n",
      "min    1.065150e+05     0.000000     0.000000      0.00000     0.000000   \n",
      "25%    3.173608e+09     3.000000     1.000000      1.00000     1.000000   \n",
      "50%    5.048717e+09     5.000000     3.000000      2.00000     3.000000   \n",
      "75%    7.434810e+09     8.000000     4.000000      4.00000     4.000000   \n",
      "max    9.997414e+09    10.000000     5.000000      5.00000     5.000000   \n",
      "\n",
      "       communication  problem_solving  \n",
      "count    1000.000000      1000.000000  \n",
      "mean        2.543000         2.577000  \n",
      "std         1.680171         1.700283  \n",
      "min         0.000000         0.000000  \n",
      "25%         1.000000         1.000000  \n",
      "50%         3.000000         3.000000  \n",
      "75%         4.000000         4.000000  \n",
      "max         5.000000         5.000000  \n"
     ]
    }
   ],
   "source": [
    "# Load cleaned data\n",
    "employees = pd.read_csv('./Preparation/cleaned_employees.csv')\n",
    "performance_metrics = pd.read_csv('./Preparation/cleaned_performance_metrics.csv')\n",
    "\n",
    "# Merge data to get a comprehensive view\n",
    "data = pd.merge(employees, performance_metrics, on='employee_id')\n",
    "\n",
    "# Explore the data\n",
    "print(data.head())\n",
    "print(data.info())\n",
    "print(data.describe())\n"
   ]
  },
  {
   "cell_type": "code",
   "execution_count": 68,
   "metadata": {},
   "outputs": [
    {
     "name": "stdout",
     "output_type": "stream",
     "text": [
      "Promotion_Status\n",
      "Do Not Promote    826\n",
      "Review            152\n",
      "Promote            22\n",
      "Name: count, dtype: int64\n",
      "Layoff_Status\n",
      "Stay      989\n",
      "Layoff     11\n",
      "Name: count, dtype: int64\n"
     ]
    }
   ],
   "source": [
    "# Combine punctuality and discipline into a single feature\n",
    "data['punctuality_discipline'] = (data['punctuality'] + data['discipline']) / 2  # Average of the two features\n",
    "\n",
    "# Define a strict and lenient threshold for Promotion_Status\n",
    "def define_promotion_status(row):\n",
    "    criteria_met = 0\n",
    "    lenient_criteria_met = 0  # For lenient review status\n",
    "\n",
    "    # Check individual criteria for strict promotion\n",
    "    if row['quiz_score'] > 8:\n",
    "        criteria_met += 1\n",
    "    if row['punctuality_discipline'] >= 4:  # Check the combined feature\n",
    "        criteria_met += 1\n",
    "    if row['teamwork'] >= 4:\n",
    "        criteria_met += 1\n",
    "    if row['communication'] >= 4:\n",
    "        criteria_met += 1\n",
    "    if row['problem_solving'] >= 4:\n",
    "        criteria_met += 1\n",
    "\n",
    "    # Define lenient criteria: count how many are >= 3 for lenient consideration\n",
    "    if row['quiz_score'] >= 6:\n",
    "        lenient_criteria_met += 1\n",
    "    if row['punctuality_discipline'] >= 3:  # Slightly lower threshold\n",
    "        lenient_criteria_met += 1\n",
    "    if row['teamwork'] >= 3:\n",
    "        lenient_criteria_met += 1\n",
    "    if row['communication'] >= 3:\n",
    "        lenient_criteria_met += 1\n",
    "    if row['problem_solving'] >= 3:\n",
    "        lenient_criteria_met += 1\n",
    "\n",
    "    # Determine promotion status based on the number of criteria met\n",
    "    if criteria_met >= 4:  # Changed from 5 to 4 for a stricter promotion count\n",
    "        return 'Promote'\n",
    "    elif lenient_criteria_met >= 4:\n",
    "        return 'Review'  # Indicate that this employee should be reviewed\n",
    "    else:\n",
    "        return 'Do Not Promote'\n",
    "\n",
    "# Apply the function to create the Promotion_Status column\n",
    "data['Promotion_Status'] = data.apply(define_promotion_status, axis=1)\n",
    "\n",
    "# Set criteria for layoffs\n",
    "def define_layoff_status(row):\n",
    "    # If an employee meets all the following conditions, they are flagged for layoff\n",
    "    if (\n",
    "        row['quiz_score'] < 4 and\n",
    "        row['punctuality'] < 3 and\n",
    "        row['discipline'] < 3 and\n",
    "        row['teamwork'] < 3 and\n",
    "        row['communication'] < 3 and\n",
    "        row['problem_solving'] < 3\n",
    "    ):\n",
    "        return 'Layoff'\n",
    "    return 'Stay'\n",
    "\n",
    "# Apply the function to create the Layoff_Status column\n",
    "data['Layoff_Status'] = data.apply(define_layoff_status, axis=1)\n",
    "\n",
    "# Check the distribution of the target variable\n",
    "print(data['Promotion_Status'].value_counts())\n",
    "print(data['Layoff_Status'].value_counts())\n",
    "\n",
    "# Optional: Drop the combined feature if not needed for further analysis\n",
    "data.drop(columns=['punctuality_discipline'], inplace=True)"
   ]
  },
  {
   "cell_type": "code",
   "execution_count": 69,
   "metadata": {},
   "outputs": [
    {
     "name": "stdout",
     "output_type": "stream",
     "text": [
      "<class 'pandas.core.frame.DataFrame'>\n",
      "RangeIndex: 1000 entries, 0 to 999\n",
      "Data columns (total 19 columns):\n",
      " #   Column            Non-Null Count  Dtype \n",
      "---  ------            --------------  ----- \n",
      " 0   employee_id       1000 non-null   object\n",
      " 1   name              1000 non-null   object\n",
      " 2   email             1000 non-null   object\n",
      " 3   password          1000 non-null   object\n",
      " 4   phone_num         1000 non-null   int64 \n",
      " 5   designation       1000 non-null   object\n",
      " 6   hire_date         1000 non-null   object\n",
      " 7   metric_id         1000 non-null   object\n",
      " 8   course_id         1000 non-null   object\n",
      " 9   quiz_score        1000 non-null   int64 \n",
      " 10  discipline        1000 non-null   int64 \n",
      " 11  punctuality       1000 non-null   int64 \n",
      " 12  teamwork          1000 non-null   int64 \n",
      " 13  communication     1000 non-null   int64 \n",
      " 14  problem_solving   1000 non-null   int64 \n",
      " 15  date              1000 non-null   object\n",
      " 16  comments          1000 non-null   object\n",
      " 17  Promotion_Status  1000 non-null   object\n",
      " 18  Layoff_Status     1000 non-null   object\n",
      "dtypes: int64(7), object(12)\n",
      "memory usage: 148.6+ KB\n"
     ]
    }
   ],
   "source": [
    "data.info()"
   ]
  },
  {
   "cell_type": "code",
   "execution_count": 70,
   "metadata": {},
   "outputs": [
    {
     "data": {
      "image/png": "[encoded data removed]",
      "text/plain": [
       "<Figure size 1000x600 with 1 Axes>"
      ]
     },
     "metadata": {},
     "output_type": "display_data"
    },
    {
     "data": {
      "image/png": "[encoded data removed]",
      "text/plain": [
       "<Figure size 1200x600 with 1 Axes>"
      ]
     },
     "metadata": {},
     "output_type": "display_data"
    }
   ],
   "source": [
    "plt.figure(figsize=(10, 6))\n",
    "sns.histplot(data['quiz_score'], bins=10, kde=True)\n",
    "plt.title('Distribution of Quiz Scores')\n",
    "plt.xlabel('Quiz Score')\n",
    "plt.ylabel('Frequency')\n",
    "plt.show()\n",
    "\n",
    "# Boxplot for performance metrics by promotion status\n",
    "plt.figure(figsize=(12, 6))\n",
    "sns.boxplot(data=data, x='Promotion_Status', y='quiz_score')\n",
    "plt.title('Quiz Score by Promotion Status')\n",
    "plt.show()"
   ]
  },
  {
   "cell_type": "code",
   "execution_count": 71,
   "metadata": {},
   "outputs": [
    {
     "name": "stdout",
     "output_type": "stream",
     "text": [
      "<class 'pandas.core.frame.DataFrame'>\n",
      "RangeIndex: 1000 entries, 0 to 999\n",
      "Data columns (total 18 columns):\n",
      " #   Column                  Non-Null Count  Dtype  \n",
      "---  ------                  --------------  -----  \n",
      " 0   employee_id             1000 non-null   object \n",
      " 1   name                    1000 non-null   object \n",
      " 2   email                   1000 non-null   object \n",
      " 3   password                1000 non-null   object \n",
      " 4   phone_num               1000 non-null   int64  \n",
      " 5   designation             1000 non-null   object \n",
      " 6   hire_date               1000 non-null   object \n",
      " 7   metric_id               1000 non-null   object \n",
      " 8   course_id               1000 non-null   object \n",
      " 9   quiz_score              1000 non-null   int64  \n",
      " 10  teamwork                1000 non-null   int64  \n",
      " 11  communication           1000 non-null   int64  \n",
      " 12  problem_solving         1000 non-null   int64  \n",
      " 13  date                    1000 non-null   object \n",
      " 14  comments                1000 non-null   object \n",
      " 15  Promotion_Status        1000 non-null   object \n",
      " 16  Layoff_Status           1000 non-null   object \n",
      " 17  punctuality_discipline  1000 non-null   float64\n",
      "dtypes: float64(1), int64(5), object(12)\n",
      "memory usage: 140.8+ KB\n"
     ]
    }
   ],
   "source": [
    "# Combine punctuality and discipline into a single feature\n",
    "data['punctuality_discipline'] = (data['punctuality'] + data['discipline']) / 2\n",
    "\n",
    "# Drop the original columns if no longer needed\n",
    "data.drop(['punctuality', 'discipline'], axis=1, inplace=True)\n",
    "\n",
    "\n",
    "data.info()"
   ]
  },
  {
   "cell_type": "code",
   "execution_count": 72,
   "metadata": {},
   "outputs": [],
   "source": [
    "# Convert categorical columns to numerical\n",
    "data_encoded = pd.get_dummies(data, columns=['designation', 'Promotion_Status', 'Layoff_Status'], drop_first=True)\n"
   ]
  },
  {
   "cell_type": "code",
   "execution_count": 73,
   "metadata": {},
   "outputs": [
    {
     "name": "stdout",
     "output_type": "stream",
     "text": [
      "Index(['employee_id', 'name', 'email', 'password', 'phone_num', 'hire_date',\n",
      "       'metric_id', 'course_id', 'quiz_score', 'teamwork', 'communication',\n",
      "       'problem_solving', 'date', 'comments', 'punctuality_discipline',\n",
      "       'designation_HR', 'designation_Manager', 'designation_Sales',\n",
      "       'Promotion_Status_Promote', 'Promotion_Status_Review',\n",
      "       'Layoff_Status_Stay'],\n",
      "      dtype='object')\n"
     ]
    }
   ],
   "source": [
    "# Check the columns in the data_encoded DataFrame\n",
    "print(data_encoded.columns)\n"
   ]
  },
  {
   "cell_type": "code",
   "execution_count": 74,
   "metadata": {},
   "outputs": [],
   "source": [
    "# Drop unwanted features before model preparation\n",
    "X = data_encoded.drop(columns=[\n",
    "    'Promotion_Status_Promote', \n",
    "    'Promotion_Status_Review', \n",
    "    'Layoff_Status_Stay', \n",
    "    'employee_id', \n",
    "    'name', \n",
    "    'email', \n",
    "    'password', \n",
    "    'phone_num', \n",
    "    'metric_id', \n",
    "    'course_id', \n",
    "    'hire_date',\n",
    "    'date', \n",
    "    'comments'\n",
    "], errors='ignore')\n"
   ]
  },
  {
   "cell_type": "code",
   "execution_count": 75,
   "metadata": {},
   "outputs": [
    {
     "name": "stdout",
     "output_type": "stream",
     "text": [
      "<class 'pandas.core.frame.DataFrame'>\n",
      "RangeIndex: 1000 entries, 0 to 999\n",
      "Data columns (total 8 columns):\n",
      " #   Column                  Non-Null Count  Dtype  \n",
      "---  ------                  --------------  -----  \n",
      " 0   quiz_score              1000 non-null   int64  \n",
      " 1   teamwork                1000 non-null   int64  \n",
      " 2   communication           1000 non-null   int64  \n",
      " 3   problem_solving         1000 non-null   int64  \n",
      " 4   punctuality_discipline  1000 non-null   float64\n",
      " 5   designation_HR          1000 non-null   bool   \n",
      " 6   designation_Manager     1000 non-null   bool   \n",
      " 7   designation_Sales       1000 non-null   bool   \n",
      "dtypes: bool(3), float64(1), int64(4)\n",
      "memory usage: 42.1 KB\n"
     ]
    }
   ],
   "source": [
    "X.info()"
   ]
  },
  {
   "cell_type": "markdown",
   "metadata": {},
   "source": [
    "# Define Target Variable "
   ]
  },
  {
   "cell_type": "code",
   "execution_count": 76,
   "metadata": {},
   "outputs": [],
   "source": [
    "\n",
    "y_promotion = data_encoded['Promotion_Status_Promote']\n",
    "y_review = data_encoded['Promotion_Status_Review']\n",
    "y_layoff = data_encoded['Layoff_Status_Stay']\n"
   ]
  },
  {
   "cell_type": "code",
   "execution_count": 79,
   "metadata": {},
   "outputs": [
    {
     "name": "stderr",
     "output_type": "stream",
     "text": [
      "c:\\Program Files\\Python312\\Lib\\site-packages\\sklearn\\metrics\\_classification.py:1531: UndefinedMetricWarning: Precision is ill-defined and being set to 0.0 in labels with no predicted samples. Use `zero_division` parameter to control this behavior.\n",
      "  _warn_prf(average, modifier, f\"{metric.capitalize()} is\", len(result))\n",
      "c:\\Program Files\\Python312\\Lib\\site-packages\\sklearn\\metrics\\_classification.py:1531: UndefinedMetricWarning: Precision is ill-defined and being set to 0.0 in labels with no predicted samples. Use `zero_division` parameter to control this behavior.\n",
      "  _warn_prf(average, modifier, f\"{metric.capitalize()} is\", len(result))\n",
      "c:\\Program Files\\Python312\\Lib\\site-packages\\sklearn\\metrics\\_classification.py:1531: UndefinedMetricWarning: Precision is ill-defined and being set to 0.0 in labels with no predicted samples. Use `zero_division` parameter to control this behavior.\n",
      "  _warn_prf(average, modifier, f\"{metric.capitalize()} is\", len(result))\n"
     ]
    },
    {
     "name": "stdout",
     "output_type": "stream",
     "text": [
      "Promotion Model Results:\n",
      "                        Accuracy  Precision  Recall  F1-Score\n",
      "Logistic Regression        0.995   0.995025   0.995  0.994649\n",
      "Decision Tree              1.000   1.000000   1.000  1.000000\n",
      "Random Forest              1.000   1.000000   1.000  1.000000\n",
      "Support Vector Machine     0.980   0.960400   0.980  0.970101\n",
      "\n",
      "Review Model Results:\n",
      "                        Accuracy  Precision  Recall  F1-Score\n",
      "Logistic Regression         0.88   0.870255    0.88  0.873829\n",
      "Decision Tree               0.99   0.990000    0.99  0.990000\n",
      "Random Forest               0.97   0.969735    0.97  0.969019\n",
      "Support Vector Machine      0.90   0.900000    0.90  0.900000\n",
      "\n",
      "Layoff Model Results:\n",
      "                        Accuracy  Precision  Recall  F1-Score\n",
      "Logistic Regression        0.985   0.980050   0.985  0.982519\n",
      "Decision Tree              0.995   0.995025   0.995  0.994173\n",
      "Random Forest              0.995   0.995025   0.995  0.994173\n",
      "Support Vector Machine     0.990   0.980100   0.990  0.985025\n",
      "\n",
      "Best model for Promotion: Decision Tree\n",
      "Best model for Review: Decision Tree\n",
      "Best model for Layoff: Decision Tree\n"
     ]
    },
    {
     "name": "stderr",
     "output_type": "stream",
     "text": [
      "c:\\Program Files\\Python312\\Lib\\site-packages\\sklearn\\metrics\\_classification.py:1531: UndefinedMetricWarning: Precision is ill-defined and being set to 0.0 in labels with no predicted samples. Use `zero_division` parameter to control this behavior.\n",
      "  _warn_prf(average, modifier, f\"{metric.capitalize()} is\", len(result))\n",
      "c:\\Program Files\\Python312\\Lib\\site-packages\\sklearn\\metrics\\_classification.py:1531: UndefinedMetricWarning: Precision is ill-defined and being set to 0.0 in labels with no predicted samples. Use `zero_division` parameter to control this behavior.\n",
      "  _warn_prf(average, modifier, f\"{metric.capitalize()} is\", len(result))\n",
      "c:\\Program Files\\Python312\\Lib\\site-packages\\sklearn\\metrics\\_classification.py:1531: UndefinedMetricWarning: Precision is ill-defined and being set to 0.0 in labels with no predicted samples. Use `zero_division` parameter to control this behavior.\n",
      "  _warn_prf(average, modifier, f\"{metric.capitalize()} is\", len(result))\n"
     ]
    }
   ],
   "source": [
    "models = {\n",
    "    'Logistic Regression': LogisticRegression(max_iter=1000),\n",
    "    'Decision Tree': DecisionTreeClassifier(),\n",
    "    'Random Forest': RandomForestClassifier(),\n",
    "    'Support Vector Machine': SVC()\n",
    "}\n",
    "\n",
    "\n",
    "def train_and_evaluate(X, y, model_dict):\n",
    "    results = {}\n",
    "    X_train, X_test, y_train, y_test = train_test_split(X, y, test_size=0.2, random_state=42)\n",
    "\n",
    "    for model_name, model in model_dict.items():\n",
    "        model.fit(X_train, y_train)  # Fit the model\n",
    "        y_pred = model.predict(X_test)  # Make predictions\n",
    "        \n",
    "        accuracy = accuracy_score(y_test, y_pred)\n",
    "        report = classification_report(y_test, y_pred, output_dict=True)\n",
    "\n",
    "     \n",
    "        positive_class = '1' if '1' in report else list(report.keys())[-1]  \n",
    "        \n",
    "        results[model_name] = {\n",
    "            'Accuracy': accuracy,\n",
    "            'Precision': report[positive_class]['precision'],\n",
    "            'Recall': report[positive_class]['recall'],\n",
    "            'F1-Score': report[positive_class]['f1-score']\n",
    "        }\n",
    "    \n",
    "    return pd.DataFrame(results).T\n",
    "\n",
    "# Step 6: Train and Evaluate Models for Each Target Variable\n",
    "results_promotion = train_and_evaluate(X, y_promotion, models)\n",
    "results_review = train_and_evaluate(X, y_review, models)\n",
    "results_layoff = train_and_evaluate(X, y_layoff, models)\n",
    "\n",
    "# Step 7: Print Results\n",
    "print(\"Promotion Model Results:\")\n",
    "print(results_promotion)\n",
    "print(\"\\nReview Model Results:\")\n",
    "print(results_review)\n",
    "print(\"\\nLayoff Model Results:\")\n",
    "print(results_layoff)\n",
    "\n",
    "# Step 8: Suggest the Best Model for Each Target Variable\n",
    "best_promotion_model = results_promotion['Accuracy'].idxmax()\n",
    "best_review_model = results_review['Accuracy'].idxmax()\n",
    "best_layoff_model = results_layoff['Accuracy'].idxmax()\n",
    "\n",
    "print(f\"\\nBest model for Promotion: {best_promotion_model}\")\n",
    "print(f\"Best model for Review: {best_review_model}\")\n",
    "print(f\"Best model for Layoff: {best_layoff_model}\")"
   ]
  }
 ],
 "metadata": {
  "kernelspec": {
   "display_name": "Python 3",
   "language": "python",
   "name": "python3"
  },
  "language_info": {
   "codemirror_mode": {
    "name": "ipython",
    "version": 3
   },
   "file_extension": ".py",
   "mimetype": "text/x-python",
   "name": "python",
   "nbconvert_exporter": "python",
   "pygments_lexer": "ipython3",
   "version": "3.12.5"
  }
 },
 "nbformat": 4,
 "nbformat_minor": 2
}
